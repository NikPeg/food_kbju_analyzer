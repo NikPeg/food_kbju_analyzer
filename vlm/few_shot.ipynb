{
 "cells": [
  {
   "cell_type": "code",
   "execution_count": 1,
   "id": "79cf5970",
   "metadata": {},
   "outputs": [],
   "source": [
    "import os\n",
    "from scripts.vllm_server import VLLMServer\n",
    "import dspy\n",
    "from dspy.adapters.types import Image\n",
    "from dspy.teleprompt import BootstrapFewShot, LabeledFewShot\n",
    "import json\n",
    "from typing import Optional\n",
    "from pathlib import Path\n",
    "import random\n",
    "from sklearn.metrics import mean_absolute_error\n",
    "\n",
    "\n",
    "random.seed(42)"
   ]
  },
  {
   "cell_type": "code",
   "execution_count": null,
   "id": "53ff0470",
   "metadata": {},
   "outputs": [],
   "source": [
    "AVAILABLE_MODELS = [\"Qwen2.5-VL-7B-Instruct\", \"gemma-3-27b-it\"]\n",
    "\n",
    "\n",
    "MODEL_NAME = AVAILABLE_MODELS[0]\n",
    "assert MODEL_NAME in AVAILABLE_MODELS"
   ]
  },
  {
   "cell_type": "code",
   "execution_count": 3,
   "id": "df41318b",
   "metadata": {},
   "outputs": [],
   "source": [
    "config_path = os.path.abspath(f\"configs/{MODEL_NAME}.yaml\")"
   ]
  },
  {
   "cell_type": "code",
   "execution_count": 4,
   "id": "fe65c27d",
   "metadata": {},
   "outputs": [
    {
     "name": "stdout",
     "output_type": "stream",
     "text": [
      "Не удалось убить старый процесс: [Errno 3] No such process\n",
      "🚀 Запуск vLLM-сервера на localhost:1337 с моделью /home/student/vllm_models/Qwen/Qwen2.5-VL-7B-Instruct…\n",
      "⏳ Ожидание порта 1337 на localhost…\n"
     ]
    },
    {
     "name": "stdout",
     "output_type": "stream",
     "text": [
      "✅ Порт 1337 на localhost открыт — сервер готов.\n",
      "📜 Логи сервера пишутся в файл: vllm_server.log\n"
     ]
    }
   ],
   "source": [
    "server = VLLMServer(config_path)"
   ]
  },
  {
   "cell_type": "code",
   "execution_count": 5,
   "id": "fb6e3b04",
   "metadata": {},
   "outputs": [],
   "source": [
    "lm = dspy.LM(\n",
    "    f\"openai/{MODEL_NAME}\",\n",
    "    api_base=\"http://localhost:1337/v1\",\n",
    "    api_key=\"local\",\n",
    "    model_type=\"chat\",\n",
    "    max_tokens=4096,\n",
    ")\n",
    "dspy.configure(lm=lm)"
   ]
  },
  {
   "cell_type": "code",
   "execution_count": 6,
   "id": "a066abd3",
   "metadata": {},
   "outputs": [
    {
     "name": "stderr",
     "output_type": "stream",
     "text": [
      "/home/student/kirienko/.venv/lib/python3.10/site-packages/pydantic/main.py:463: UserWarning: Pydantic serializer warnings:\n",
      "  PydanticSerializationUnexpectedValue(Expected 9 fields but got 5: Expected `Message` - serialized value may not be as expected [input_value=Message(content='Прив...ields={'refusal': None}), input_type=Message])\n",
      "  PydanticSerializationUnexpectedValue(Expected `StreamingChoices` - serialized value may not be as expected [input_value=Choices(finish_reason='st...s={'stop_reason': None}), input_type=Choices])\n",
      "  return self.__pydantic_serializer__.to_python(\n"
     ]
    },
    {
     "data": {
      "text/plain": [
       "['Привет! Я искусственный интеллект, поэтому у меня нет чувств или эмоций, но я всегда готов помочь вам с любыми вопросами или задачами, которые вы можете иметь. Как я могу вам помочь сегодня?']"
      ]
     },
     "execution_count": 6,
     "metadata": {},
     "output_type": "execute_result"
    },
    {
     "name": "stderr",
     "output_type": "stream",
     "text": [
      "/home/student/kirienko/.venv/lib/python3.10/site-packages/pydantic/main.py:463: UserWarning: Pydantic serializer warnings:\n",
      "  PydanticSerializationUnexpectedValue(Expected 9 fields but got 5: Expected `Message` - serialized value may not be as expected [input_value=Message(content='[[ ## en...ields={'refusal': None}), input_type=Message])\n",
      "  PydanticSerializationUnexpectedValue(Expected `StreamingChoices` - serialized value may not be as expected [input_value=Choices(finish_reason='st...s={'stop_reason': None}), input_type=Choices])\n",
      "  return self.__pydantic_serializer__.to_python(\n",
      "/home/student/kirienko/.venv/lib/python3.10/site-packages/pydantic/main.py:463: UserWarning: Pydantic serializer warnings:\n",
      "  PydanticSerializationUnexpectedValue(Expected 9 fields but got 5: Expected `Message` - serialized value may not be as expected [input_value=Message(content='[[ ## en...ields={'refusal': None}), input_type=Message])\n",
      "  PydanticSerializationUnexpectedValue(Expected `StreamingChoices` - serialized value may not be as expected [input_value=Choices(finish_reason='st...s={'stop_reason': None}), input_type=Choices])\n",
      "  return self.__pydantic_serializer__.to_python(\n"
     ]
    }
   ],
   "source": [
    "lm(prompt=\"Привет! Как твои дела?\")"
   ]
  },
  {
   "cell_type": "code",
   "execution_count": 38,
   "id": "129be849",
   "metadata": {},
   "outputs": [],
   "source": [
    "AVAILABLE_OPTIMIZERS = [\"bs_few_shot\", \"few_shot\"]\n",
    "\n",
    "OPTIMIZER = AVAILABLE_OPTIMIZERS[0]\n",
    "FEW_SHOTS_COUNT = 30\n",
    "TRAIN_SAMPLES_CNT = 1000\n",
    "TEST_SAMPLES_CNT = 500\n",
    "IMAGES_DIR_PATH = \"data/test_valid\"\n",
    "DATA_FILE_PATH = \"data/test_fix.json\"\n",
    "EXP_NAME = f\"{MODEL_NAME}_{OPTIMIZER}_{FEW_SHOTS_COUNT}\"\n",
    "ARTIFACTS_DIR = \"vlm_experiments\"\n",
    "\n",
    "assert OPTIMIZER in AVAILABLE_OPTIMIZERS"
   ]
  },
  {
   "cell_type": "code",
   "execution_count": 39,
   "id": "9a81caf9",
   "metadata": {},
   "outputs": [],
   "source": [
    "class NutritionSignature(dspy.Signature):\n",
    "    \"\"\"\n",
    "    You are a nutrition expert.  \n",
    "    Your task is to analyze an image of a dish and estimate its nutritional value per 100 grams: calories, protein, fat, and carbohydrates.\n",
    "\n",
    "    If the name of the dish is provided, use it together with the image to make a more accurate assessment.\n",
    "    \"\"\"\n",
    "    image: Optional[Image] = dspy.InputField(desc=\"Dish image\")\n",
    "    title: str = dspy.InputField(desc=\"Dish title\")\n",
    "\n",
    "    energy_kcal: float = dspy.OutputField(desc=\"Calories per 100g\")\n",
    "    protein_g: float = dspy.OutputField(desc=\"Protein per 100g\")\n",
    "    fat_g: float = dspy.OutputField(desc=\"Fat per 100g\")\n",
    "    carbs_g: float = dspy.OutputField(desc=\"Carbohydrates per 100g\")"
   ]
  },
  {
   "cell_type": "code",
   "execution_count": 40,
   "id": "65a9f63f",
   "metadata": {},
   "outputs": [],
   "source": [
    "def prepare_example(item: dict, images_dir_path: str) -> dspy.Example:\n",
    "    for image in item.get(\"images\"):\n",
    "        try:\n",
    "            image_path = Path(images_dir_path) / Path(image[\"valid_path\"].replace('\\\\', '/'))\n",
    "            image = Image.from_file(str(image_path))\n",
    "        except Exception as e:\n",
    "            print(str(e))\n",
    "            continue\n",
    "\n",
    "    nutr100 = item[\"nutr_per100g\"]\n",
    "\n",
    "    return dspy.Example(\n",
    "        image=image,\n",
    "        title=item[\"title\"],\n",
    "        energy_kcal=nutr100[\"energy_kcal\"],\n",
    "        protein_g=nutr100[\"protein_g\"],\n",
    "        fat_g=nutr100[\"fat_g\"],\n",
    "        carbs_g=nutr100[\"carbs_g\"]\n",
    "    ).with_inputs(\"image\", \"title\")"
   ]
  },
  {
   "cell_type": "code",
   "execution_count": 10,
   "id": "48ccd406",
   "metadata": {},
   "outputs": [],
   "source": [
    "with open(DATA_FILE_PATH, \"r\") as f:\n",
    "    data = json.load(f)\n",
    "\n",
    "random.shuffle(data)\n",
    "\n",
    "train_examples = [prepare_example(x, IMAGES_DIR_PATH) for x in data[:TRAIN_SAMPLES_CNT]]\n",
    "test_examples = [prepare_example(x, IMAGES_DIR_PATH) for x in data[TRAIN_SAMPLES_CNT:TRAIN_SAMPLES_CNT + TEST_SAMPLES_CNT]]"
   ]
  },
  {
   "cell_type": "code",
   "execution_count": 11,
   "id": "10f1d7df",
   "metadata": {},
   "outputs": [
    {
     "data": {
      "text/plain": [
       "Example({'image': Image(url=data:image/jpeg;base64,<IMAGE_BASE_64_ENCODED(100176)>), 'title': 'Simple Spicy Potato Salad', 'energy_kcal': 120.61419586191194, 'protein_g': 3.2724255058769955, 'fat_g': 6.327658878105701, 'carbs_g': 12.643890983863162}) (input_keys={'title', 'image'})"
      ]
     },
     "execution_count": 11,
     "metadata": {},
     "output_type": "execute_result"
    }
   ],
   "source": [
    "train_examples[0]"
   ]
  },
  {
   "cell_type": "code",
   "execution_count": 41,
   "id": "8f5cdf72",
   "metadata": {},
   "outputs": [],
   "source": [
    "nutrition_predictor = dspy.ChainOfThought(NutritionSignature)"
   ]
  },
  {
   "cell_type": "code",
   "execution_count": 42,
   "id": "9c11d20d",
   "metadata": {},
   "outputs": [],
   "source": [
    "def mean_negative_mae(example: dspy.Example, prediction: dspy.Prediction, trace=None) -> float:\n",
    "    energy_kcal_mae = abs(example.energy_kcal - prediction.energy_kcal)\n",
    "    protein_g_mae = abs(example.protein_g - prediction.protein_g)\n",
    "    fat_g_mae = abs(example.fat_g - prediction.fat_g)\n",
    "    carbs_g_mae = abs(example.carbs_g - prediction.carbs_g)\n",
    "\n",
    "    return -(energy_kcal_mae + protein_g_mae + fat_g_mae + carbs_g_mae) / 4\n",
    "\n",
    "\n",
    "evaluator = dspy.Evaluate(\n",
    "    devset=test_examples,\n",
    "    metric=mean_negative_mae,\n",
    "    display_progress=True,\n",
    "    display_table=True,\n",
    "    failure_score=-1000\n",
    ")"
   ]
  },
  {
   "cell_type": "code",
   "execution_count": 43,
   "id": "9d551337",
   "metadata": {},
   "outputs": [],
   "source": [
    "max_labeled_demos = int(FEW_SHOTS_COUNT * 0.8)\n",
    "max_bootstrapped_demos = FEW_SHOTS_COUNT - max_labeled_demos\n",
    "\n",
    "assert max_bootstrapped_demos + max_labeled_demos == FEW_SHOTS_COUNT"
   ]
  },
  {
   "cell_type": "code",
   "execution_count": 44,
   "id": "01b4197e",
   "metadata": {},
   "outputs": [],
   "source": [
    "if OPTIMIZER == \"bs_few_shot\":\n",
    "    optimizer = BootstrapFewShot(\n",
    "        metric=mean_negative_mae,\n",
    "        max_bootstrapped_demos=max_bootstrapped_demos,\n",
    "        max_labeled_demos=max_labeled_demos, \n",
    "        max_errors=len(train_examples)\n",
    "    )\n",
    "elif OPTIMIZER == \"few_shot\":\n",
    "    optimizer = LabeledFewShot(k=FEW_SHOTS_COUNT)\n",
    "else:\n",
    "    raise ValueError(\"Invalid optimizer\") "
   ]
  },
  {
   "cell_type": "code",
   "execution_count": 45,
   "id": "ad5c3d1a",
   "metadata": {},
   "outputs": [
    {
     "name": "stderr",
     "output_type": "stream",
     "text": [
      "  0%|          | 0/1000 [00:00<?, ?it/s]"
     ]
    },
    {
     "name": "stderr",
     "output_type": "stream",
     "text": [
      "/home/student/kirienko/.venv/lib/python3.10/site-packages/pydantic/main.py:463: UserWarning: Pydantic serializer warnings:\n",
      "  PydanticSerializationUnexpectedValue(Expected 9 fields but got 5: Expected `Message` - serialized value may not be as expected [input_value=Message(content='[[ ## re...ields={'refusal': None}), input_type=Message])\n",
      "  PydanticSerializationUnexpectedValue(Expected `StreamingChoices` - serialized value may not be as expected [input_value=Choices(finish_reason='st...s={'stop_reason': None}), input_type=Choices])\n",
      "  return self.__pydantic_serializer__.to_python(\n",
      "  1%|          | 6/1000 [00:48<2:14:39,  8.13s/it]"
     ]
    },
    {
     "name": "stdout",
     "output_type": "stream",
     "text": [
      "Bootstrapped 6 full traces after 6 examples for up to 1 rounds, amounting to 6 attempts.\n"
     ]
    },
    {
     "name": "stderr",
     "output_type": "stream",
     "text": [
      "\n"
     ]
    }
   ],
   "source": [
    "optimized_nutrition_predictor = optimizer.compile(\n",
    "    nutrition_predictor,\n",
    "    trainset=train_examples,\n",
    ")"
   ]
  },
  {
   "cell_type": "code",
   "execution_count": 17,
   "id": "3ce54efd",
   "metadata": {},
   "outputs": [
    {
     "name": "stdout",
     "output_type": "stream",
     "text": [
      "Average Metric: -24590.07 / 500 (-4918.0%): 100%|██████████| 500/500 [08:48<00:00,  1.06s/it]"
     ]
    },
    {
     "name": "stderr",
     "output_type": "stream",
     "text": [
      "2025/06/17 19:26:23 INFO dspy.evaluate.evaluate: Average Metric: -24590.070253186408 / 500 (-4918.0%)\n"
     ]
    },
    {
     "name": "stdout",
     "output_type": "stream",
     "text": [
      "\n"
     ]
    },
    {
     "data": {
      "text/html": [
       "<div>\n",
       "<style scoped>\n",
       "    .dataframe tbody tr th:only-of-type {\n",
       "        vertical-align: middle;\n",
       "    }\n",
       "\n",
       "    .dataframe tbody tr th {\n",
       "        vertical-align: top;\n",
       "    }\n",
       "\n",
       "    .dataframe thead th {\n",
       "        text-align: right;\n",
       "    }\n",
       "</style>\n",
       "<table border=\"1\" class=\"dataframe\">\n",
       "  <thead>\n",
       "    <tr style=\"text-align: right;\">\n",
       "      <th></th>\n",
       "      <th>image</th>\n",
       "      <th>title</th>\n",
       "      <th>example_energy_kcal</th>\n",
       "      <th>example_protein_g</th>\n",
       "      <th>example_fat_g</th>\n",
       "      <th>example_carbs_g</th>\n",
       "      <th>pred_energy_kcal</th>\n",
       "      <th>pred_protein_g</th>\n",
       "      <th>pred_fat_g</th>\n",
       "      <th>pred_carbs_g</th>\n",
       "      <th>mean_negative_mae</th>\n",
       "    </tr>\n",
       "  </thead>\n",
       "  <tbody>\n",
       "    <tr>\n",
       "      <th>0</th>\n",
       "      <td>&lt;&lt;CUSTOM-TYPE-START-IDENTIFIER&gt;&gt;[{'type': 'image_url', 'image_url'...</td>\n",
       "      <td>Butter Naan (Indian Bread)</td>\n",
       "      <td>360.009374</td>\n",
       "      <td>10.127715</td>\n",
       "      <td>0.960809</td>\n",
       "      <td>77.712808</td>\n",
       "      <td>100.0</td>\n",
       "      <td>3.0</td>\n",
       "      <td>5.0</td>\n",
       "      <td>15.0</td>\n",
       "      <td>✔️ [-83.472]</td>\n",
       "    </tr>\n",
       "    <tr>\n",
       "      <th>1</th>\n",
       "      <td>&lt;&lt;CUSTOM-TYPE-START-IDENTIFIER&gt;&gt;[{'type': 'image_url', 'image_url'...</td>\n",
       "      <td>Drunken Berries</td>\n",
       "      <td>98.209099</td>\n",
       "      <td>0.648934</td>\n",
       "      <td>0.264089</td>\n",
       "      <td>23.309142</td>\n",
       "      <td>100.0</td>\n",
       "      <td>1.0</td>\n",
       "      <td>0.5</td>\n",
       "      <td>15.0</td>\n",
       "      <td>✔️ [-2.672]</td>\n",
       "    </tr>\n",
       "    <tr>\n",
       "      <th>2</th>\n",
       "      <td>&lt;&lt;CUSTOM-TYPE-START-IDENTIFIER&gt;&gt;[{'type': 'image_url', 'image_url'...</td>\n",
       "      <td>Cocktail Nuts</td>\n",
       "      <td>507.090303</td>\n",
       "      <td>11.577786</td>\n",
       "      <td>48.301195</td>\n",
       "      <td>6.517101</td>\n",
       "      <td>600.0</td>\n",
       "      <td>10.0</td>\n",
       "      <td>45.0</td>\n",
       "      <td>0.0</td>\n",
       "      <td>✔️ [-26.076]</td>\n",
       "    </tr>\n",
       "    <tr>\n",
       "      <th>3</th>\n",
       "      <td>&lt;&lt;CUSTOM-TYPE-START-IDENTIFIER&gt;&gt;[{'type': 'image_url', 'image_url'...</td>\n",
       "      <td>Steamed Fish with Ginger</td>\n",
       "      <td>204.405281</td>\n",
       "      <td>12.831889</td>\n",
       "      <td>15.945791</td>\n",
       "      <td>2.391402</td>\n",
       "      <td>150.0</td>\n",
       "      <td>20.0</td>\n",
       "      <td>2.0</td>\n",
       "      <td>1.0</td>\n",
       "      <td>✔️ [-19.228]</td>\n",
       "    </tr>\n",
       "    <tr>\n",
       "      <th>4</th>\n",
       "      <td>&lt;&lt;CUSTOM-TYPE-START-IDENTIFIER&gt;&gt;[{'type': 'image_url', 'image_url'...</td>\n",
       "      <td>5 minute Pizza base. No yeast!</td>\n",
       "      <td>211.500000</td>\n",
       "      <td>10.260000</td>\n",
       "      <td>0.685000</td>\n",
       "      <td>41.073750</td>\n",
       "      <td>250.0</td>\n",
       "      <td>10.0</td>\n",
       "      <td>15.0</td>\n",
       "      <td>30.0</td>\n",
       "      <td>✔️ [-16.037]</td>\n",
       "    </tr>\n",
       "    <tr>\n",
       "      <th>...</th>\n",
       "      <td>...</td>\n",
       "      <td>...</td>\n",
       "      <td>...</td>\n",
       "      <td>...</td>\n",
       "      <td>...</td>\n",
       "      <td>...</td>\n",
       "      <td>...</td>\n",
       "      <td>...</td>\n",
       "      <td>...</td>\n",
       "      <td>...</td>\n",
       "      <td>...</td>\n",
       "    </tr>\n",
       "    <tr>\n",
       "      <th>495</th>\n",
       "      <td>&lt;&lt;CUSTOM-TYPE-START-IDENTIFIER&gt;&gt;[{'type': 'image_url', 'image_url'...</td>\n",
       "      <td>Roasted Garlic-Pepper Green Beans</td>\n",
       "      <td>72.755273</td>\n",
       "      <td>3.081118</td>\n",
       "      <td>1.844977</td>\n",
       "      <td>10.956502</td>\n",
       "      <td>100.0</td>\n",
       "      <td>2.0</td>\n",
       "      <td>2.0</td>\n",
       "      <td>5.0</td>\n",
       "      <td>✔️ [-8.609]</td>\n",
       "    </tr>\n",
       "    <tr>\n",
       "      <th>496</th>\n",
       "      <td>&lt;&lt;CUSTOM-TYPE-START-IDENTIFIER&gt;&gt;[{'type': 'image_url', 'image_url'...</td>\n",
       "      <td>Mustard Dip</td>\n",
       "      <td>251.235101</td>\n",
       "      <td>2.314217</td>\n",
       "      <td>25.244256</td>\n",
       "      <td>3.694982</td>\n",
       "      <td>100.0</td>\n",
       "      <td>2.0</td>\n",
       "      <td>8.0</td>\n",
       "      <td>2.0</td>\n",
       "      <td>✔️ [-42.622]</td>\n",
       "    </tr>\n",
       "    <tr>\n",
       "      <th>497</th>\n",
       "      <td>&lt;&lt;CUSTOM-TYPE-START-IDENTIFIER&gt;&gt;[{'type': 'image_url', 'image_url'...</td>\n",
       "      <td>Hot Bacon Dressing</td>\n",
       "      <td>273.939227</td>\n",
       "      <td>7.189694</td>\n",
       "      <td>4.622560</td>\n",
       "      <td>50.894353</td>\n",
       "      <td>120.0</td>\n",
       "      <td>2.0</td>\n",
       "      <td>10.0</td>\n",
       "      <td>2.0</td>\n",
       "      <td>✔️ [-53.350]</td>\n",
       "    </tr>\n",
       "    <tr>\n",
       "      <th>498</th>\n",
       "      <td>&lt;&lt;CUSTOM-TYPE-START-IDENTIFIER&gt;&gt;[{'type': 'image_url', 'image_url'...</td>\n",
       "      <td>Healthy Banana Drop Cookies</td>\n",
       "      <td>270.860268</td>\n",
       "      <td>4.611757</td>\n",
       "      <td>1.960738</td>\n",
       "      <td>58.691651</td>\n",
       "      <td>250.0</td>\n",
       "      <td>2.0</td>\n",
       "      <td>1.0</td>\n",
       "      <td>30.0</td>\n",
       "      <td>✔️ [-13.281]</td>\n",
       "    </tr>\n",
       "    <tr>\n",
       "      <th>499</th>\n",
       "      <td>&lt;&lt;CUSTOM-TYPE-START-IDENTIFIER&gt;&gt;[{'type': 'image_url', 'image_url'...</td>\n",
       "      <td>My Southren Pecan Chocolate Chip Cookies</td>\n",
       "      <td>418.127162</td>\n",
       "      <td>1.619815</td>\n",
       "      <td>23.915713</td>\n",
       "      <td>49.101621</td>\n",
       "      <td>540.0</td>\n",
       "      <td>3.0</td>\n",
       "      <td>3.0</td>\n",
       "      <td>75.0</td>\n",
       "      <td>✔️ [-42.517]</td>\n",
       "    </tr>\n",
       "  </tbody>\n",
       "</table>\n",
       "<p>500 rows × 11 columns</p>\n",
       "</div>"
      ],
      "text/plain": [
       "                                                                     image  \\\n",
       "0    <<CUSTOM-TYPE-START-IDENTIFIER>>[{'type': 'image_url', 'image_url'...   \n",
       "1    <<CUSTOM-TYPE-START-IDENTIFIER>>[{'type': 'image_url', 'image_url'...   \n",
       "2    <<CUSTOM-TYPE-START-IDENTIFIER>>[{'type': 'image_url', 'image_url'...   \n",
       "3    <<CUSTOM-TYPE-START-IDENTIFIER>>[{'type': 'image_url', 'image_url'...   \n",
       "4    <<CUSTOM-TYPE-START-IDENTIFIER>>[{'type': 'image_url', 'image_url'...   \n",
       "..                                                                     ...   \n",
       "495  <<CUSTOM-TYPE-START-IDENTIFIER>>[{'type': 'image_url', 'image_url'...   \n",
       "496  <<CUSTOM-TYPE-START-IDENTIFIER>>[{'type': 'image_url', 'image_url'...   \n",
       "497  <<CUSTOM-TYPE-START-IDENTIFIER>>[{'type': 'image_url', 'image_url'...   \n",
       "498  <<CUSTOM-TYPE-START-IDENTIFIER>>[{'type': 'image_url', 'image_url'...   \n",
       "499  <<CUSTOM-TYPE-START-IDENTIFIER>>[{'type': 'image_url', 'image_url'...   \n",
       "\n",
       "                                        title  example_energy_kcal  \\\n",
       "0                  Butter Naan (Indian Bread)           360.009374   \n",
       "1                             Drunken Berries            98.209099   \n",
       "2                               Cocktail Nuts           507.090303   \n",
       "3                    Steamed Fish with Ginger           204.405281   \n",
       "4              5 minute Pizza base. No yeast!           211.500000   \n",
       "..                                        ...                  ...   \n",
       "495         Roasted Garlic-Pepper Green Beans            72.755273   \n",
       "496                               Mustard Dip           251.235101   \n",
       "497                        Hot Bacon Dressing           273.939227   \n",
       "498               Healthy Banana Drop Cookies           270.860268   \n",
       "499  My Southren Pecan Chocolate Chip Cookies           418.127162   \n",
       "\n",
       "     example_protein_g  example_fat_g  example_carbs_g  pred_energy_kcal  \\\n",
       "0            10.127715       0.960809        77.712808             100.0   \n",
       "1             0.648934       0.264089        23.309142             100.0   \n",
       "2            11.577786      48.301195         6.517101             600.0   \n",
       "3            12.831889      15.945791         2.391402             150.0   \n",
       "4            10.260000       0.685000        41.073750             250.0   \n",
       "..                 ...            ...              ...               ...   \n",
       "495           3.081118       1.844977        10.956502             100.0   \n",
       "496           2.314217      25.244256         3.694982             100.0   \n",
       "497           7.189694       4.622560        50.894353             120.0   \n",
       "498           4.611757       1.960738        58.691651             250.0   \n",
       "499           1.619815      23.915713        49.101621             540.0   \n",
       "\n",
       "     pred_protein_g  pred_fat_g  pred_carbs_g mean_negative_mae  \n",
       "0               3.0         5.0          15.0      ✔️ [-83.472]  \n",
       "1               1.0         0.5          15.0       ✔️ [-2.672]  \n",
       "2              10.0        45.0           0.0      ✔️ [-26.076]  \n",
       "3              20.0         2.0           1.0      ✔️ [-19.228]  \n",
       "4              10.0        15.0          30.0      ✔️ [-16.037]  \n",
       "..              ...         ...           ...               ...  \n",
       "495             2.0         2.0           5.0       ✔️ [-8.609]  \n",
       "496             2.0         8.0           2.0      ✔️ [-42.622]  \n",
       "497             2.0        10.0           2.0      ✔️ [-53.350]  \n",
       "498             2.0         1.0          30.0      ✔️ [-13.281]  \n",
       "499             3.0         3.0          75.0      ✔️ [-42.517]  \n",
       "\n",
       "[500 rows x 11 columns]"
      ]
     },
     "metadata": {},
     "output_type": "display_data"
    },
    {
     "data": {
      "text/plain": [
       "-4918.01"
      ]
     },
     "execution_count": 17,
     "metadata": {},
     "output_type": "execute_result"
    }
   ],
   "source": [
    "evaluator(optimized_nutrition_predictor)"
   ]
  },
  {
   "cell_type": "code",
   "execution_count": 46,
   "id": "76428afc",
   "metadata": {},
   "outputs": [
    {
     "name": "stdout",
     "output_type": "stream",
     "text": [
      "Processed 6 / 500 examples:   1%|          | 6/500 [00:24<14:00,  1.70s/it]  "
     ]
    },
    {
     "name": "stderr",
     "output_type": "stream",
     "text": [
      "/home/student/kirienko/.venv/lib/python3.10/site-packages/pydantic/main.py:463: UserWarning: Pydantic serializer warnings:\n",
      "  PydanticSerializationUnexpectedValue(Expected 9 fields but got 5: Expected `Message` - serialized value may not be as expected [input_value=Message(content=\"[[ ## re...ields={'refusal': None}), input_type=Message])\n",
      "  PydanticSerializationUnexpectedValue(Expected `StreamingChoices` - serialized value may not be as expected [input_value=Choices(finish_reason='st...s={'stop_reason': None}), input_type=Choices])\n",
      "  return self.__pydantic_serializer__.to_python(\n"
     ]
    },
    {
     "name": "stdout",
     "output_type": "stream",
     "text": [
      "Processed 403 / 500 examples:  81%|████████  | 403/500 [12:29<02:56,  1.82s/it]"
     ]
    },
    {
     "name": "stderr",
     "output_type": "stream",
     "text": [
      "2025/06/17 20:02:08 WARNING dspy.adapters.json_adapter: Failed to use structured output format, falling back to JSON mode.\n"
     ]
    },
    {
     "name": "stdout",
     "output_type": "stream",
     "text": [
      "Processed 409 / 500 examples:  82%|████████▏ | 408/500 [12:45<04:27,  2.91s/it]"
     ]
    },
    {
     "name": "stderr",
     "output_type": "stream",
     "text": [
      "/home/student/kirienko/.venv/lib/python3.10/site-packages/pydantic/main.py:463: UserWarning: Pydantic serializer warnings:\n",
      "  PydanticSerializationUnexpectedValue(Expected 9 fields but got 5: Expected `Message` - serialized value may not be as expected [input_value=Message(content='{\\n  \"re...ields={'refusal': None}), input_type=Message])\n",
      "  PydanticSerializationUnexpectedValue(Expected `StreamingChoices` - serialized value may not be as expected [input_value=Choices(finish_reason='st...s={'stop_reason': None}), input_type=Choices])\n",
      "  return self.__pydantic_serializer__.to_python(\n"
     ]
    },
    {
     "name": "stdout",
     "output_type": "stream",
     "text": [
      "Processed 500 / 500 examples: 100%|██████████| 500/500 [15:30<00:00,  1.86s/it]\n"
     ]
    }
   ],
   "source": [
    "preds = optimized_nutrition_predictor.batch([x.inputs() for x in test_examples])"
   ]
  },
  {
   "cell_type": "code",
   "execution_count": 47,
   "id": "6f0ed33a",
   "metadata": {},
   "outputs": [],
   "source": [
    "nutrients = ['energy_kcal', 'protein_g', 'fat_g', 'carbs_g']\n",
    "\n",
    "targets = []\n",
    "predictions = []\n",
    "\n",
    "for pred, example in zip(preds, test_examples):\n",
    "    target = {k: v for k, v in example.items() if k in nutrients}\n",
    "    targets.append(target)\n",
    "    predictions.append(pred.toDict())"
   ]
  },
  {
   "cell_type": "code",
   "execution_count": 48,
   "id": "fb99fc3b",
   "metadata": {},
   "outputs": [],
   "source": [
    "y_true = {nutrient: [t[nutrient] for t in targets] for nutrient in nutrients}\n",
    "y_pred = {nutrient: [p[nutrient] for p in predictions] for nutrient in nutrients}\n",
    "\n",
    "mae_scores = {}\n",
    "\n",
    "for nutrient in nutrients:\n",
    "    mae = mean_absolute_error(y_true[nutrient], y_pred[nutrient])\n",
    "    mae_scores[nutrient] = mae"
   ]
  },
  {
   "cell_type": "code",
   "execution_count": 49,
   "id": "5390df2e",
   "metadata": {},
   "outputs": [],
   "source": [
    "os.makedirs(f\"{ARTIFACTS_DIR}/{EXP_NAME}\", exist_ok=True)\n",
    "\n",
    "with open(f\"{ARTIFACTS_DIR}/{EXP_NAME}/metrics.json\", \"w\", encoding=\"utf-8\") as f:\n",
    "    json.dump(mae_scores, f, indent=4, ensure_ascii=False)\n",
    "\n",
    "with open(f\"{ARTIFACTS_DIR}/{EXP_NAME}/params.json\", \"w\", encoding=\"utf-8\") as f:\n",
    "    params = {\n",
    "        \"model\": MODEL_NAME,\n",
    "        \"optimizer\": OPTIMIZER,\n",
    "        \"few_shots_count\": FEW_SHOTS_COUNT,\n",
    "        \"train_samples_cnt\": TRAIN_SAMPLES_CNT,\n",
    "        \"test_samples_cnt\": TEST_SAMPLES_CNT\n",
    "    }\n",
    "    json.dump(params, f, indent=4, ensure_ascii=False)\n",
    "\n",
    "optimized_nutrition_predictor.save(f\"{ARTIFACTS_DIR}/{EXP_NAME}/dspy_program.json\")"
   ]
  },
  {
   "cell_type": "code",
   "execution_count": 23,
   "id": "bae9fa8b",
   "metadata": {},
   "outputs": [],
   "source": [
    "server.stop()"
   ]
  },
  {
   "cell_type": "code",
   "execution_count": null,
   "id": "d085a9f9",
   "metadata": {},
   "outputs": [],
   "source": []
  }
 ],
 "metadata": {
  "kernelspec": {
   "display_name": ".venv",
   "language": "python",
   "name": "python3"
  },
  "language_info": {
   "codemirror_mode": {
    "name": "ipython",
    "version": 3
   },
   "file_extension": ".py",
   "mimetype": "text/x-python",
   "name": "python",
   "nbconvert_exporter": "python",
   "pygments_lexer": "ipython3",
   "version": "3.10.12"
  }
 },
 "nbformat": 4,
 "nbformat_minor": 5
}
