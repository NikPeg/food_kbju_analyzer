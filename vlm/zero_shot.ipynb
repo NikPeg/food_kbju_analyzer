{
 "cells": [
  {
   "cell_type": "code",
   "execution_count": 1,
   "id": "57176564",
   "metadata": {},
   "outputs": [],
   "source": [
    "import os\n",
    "import base64\n",
    "from PIL import Image\n",
    "from io import BytesIO\n",
    "from langchain_openai import ChatOpenAI\n",
    "from scripts.vllm_server import VLLMServer\n",
    "import json\n",
    "from pathlib import Path\n",
    "from pydantic import BaseModel, Field\n",
    "from sklearn.metrics import mean_absolute_error\n",
    "from tqdm.notebook import tqdm\n",
    "import random\n",
    "\n",
    "random.seed(42)"
   ]
  },
  {
   "cell_type": "code",
   "execution_count": 2,
   "id": "1e81343f",
   "metadata": {},
   "outputs": [],
   "source": [
    "AVAILABLE_MODELS = [\"Qwen2.5-VL-7B-Instruct\", \"gemma-3-27b-it\"]\n",
    "\n",
    "\n",
    "MODEL_NAME = AVAILABLE_MODELS[1]\n",
    "assert MODEL_NAME in AVAILABLE_MODELS"
   ]
  },
  {
   "cell_type": "code",
   "execution_count": 3,
   "id": "bef8bd0b",
   "metadata": {},
   "outputs": [],
   "source": [
    "config_path = os.path.abspath(f\"configs/{MODEL_NAME}.yaml\")"
   ]
  },
  {
   "cell_type": "code",
   "execution_count": 4,
   "id": "10f81c51",
   "metadata": {},
   "outputs": [
    {
     "name": "stdout",
     "output_type": "stream",
     "text": [
      "Убиваем старый процесс vLLM с PGID=1296976\n",
      "🚀 Запуск vLLM-сервера на localhost:1337 с моделью /home/student/vllm_models/google/gemma-3-27b-it…\n",
      "⏳ Ожидание порта 1337 на localhost…\n",
      "✅ Порт 1337 на localhost открыт — сервер готов.\n",
      "📜 Логи сервера пишутся в файл: vllm_server.log\n"
     ]
    }
   ],
   "source": [
    "server = VLLMServer(config_path)"
   ]
  },
  {
   "cell_type": "code",
   "execution_count": 5,
   "id": "a615e65b",
   "metadata": {},
   "outputs": [],
   "source": [
    "EXP_NAME = f\"{MODEL_NAME}_zeroshot\"\n",
    "ARTIFACTS_DIR = \"vlm_experiments\""
   ]
  },
  {
   "cell_type": "code",
   "execution_count": 6,
   "id": "d5a377e1",
   "metadata": {},
   "outputs": [],
   "source": [
    "llm = ChatOpenAI(\n",
    "    base_url=\"http://localhost:1337/v1\",\n",
    "    api_key=\"test\",\n",
    "    model_name=MODEL_NAME,\n",
    "    temperature=0.,\n",
    "    max_tokens=32768\n",
    ")"
   ]
  },
  {
   "cell_type": "code",
   "execution_count": 7,
   "id": "120f379c",
   "metadata": {},
   "outputs": [
    {
     "data": {
      "text/plain": [
       "AIMessage(content='Привет! Чем могу помочь? 😊\\n', additional_kwargs={'refusal': None}, response_metadata={'token_usage': {'completion_tokens': 9, 'prompt_tokens': 11, 'total_tokens': 20, 'completion_tokens_details': None, 'prompt_tokens_details': None}, 'model_name': 'gemma-3-27b-it', 'system_fingerprint': None, 'id': 'chatcmpl-4a824330cebf4f5ca227fe75c971bb87', 'service_tier': None, 'finish_reason': 'stop', 'logprobs': None}, id='run--99031e9d-c19b-4e7e-ba4f-a9c46cf6056e-0', usage_metadata={'input_tokens': 11, 'output_tokens': 9, 'total_tokens': 20, 'input_token_details': {}, 'output_token_details': {}})"
      ]
     },
     "execution_count": 7,
     "metadata": {},
     "output_type": "execute_result"
    }
   ],
   "source": [
    "llm.invoke(\"Привет!\")"
   ]
  },
  {
   "cell_type": "code",
   "execution_count": 8,
   "id": "0ac50ce8",
   "metadata": {},
   "outputs": [],
   "source": [
    "class NutritionFacts(BaseModel):\n",
    "    energy_kcal: float = Field(description=\"Calories per 100g, in kcal\")\n",
    "    protein_g: float = Field(description=\"Protein per 100g, in grams\")\n",
    "    fat_g: float = Field(description=\"Fat per 100g, in grams\")\n",
    "    carbs_g: float = Field(description=\"Carbohydrates per 100g, in grams\")"
   ]
  },
  {
   "cell_type": "code",
   "execution_count": 9,
   "id": "bd6f29d5",
   "metadata": {},
   "outputs": [],
   "source": [
    "llm = llm.with_structured_output(NutritionFacts.model_json_schema())"
   ]
  },
  {
   "cell_type": "code",
   "execution_count": 10,
   "id": "ea7bc4fc",
   "metadata": {},
   "outputs": [],
   "source": [
    "def image_to_base64(image_path: str, images_dir_path: str) -> str:\n",
    "    image_path = Path(images_dir_path) / Path(image_path.replace('\\\\', '/'))\n",
    "    with Image.open(image_path) as img:\n",
    "        buffered = BytesIO()\n",
    "        img.save(buffered, format=\"JPEG\")\n",
    "        img_base64 = base64.b64encode(buffered.getvalue()).decode(\"utf-8\")\n",
    "    return img_base64"
   ]
  },
  {
   "cell_type": "code",
   "execution_count": 11,
   "id": "03cf7735",
   "metadata": {},
   "outputs": [],
   "source": [
    "with open('data/test_fix.json', 'r') as f:\n",
    "    raw_data = json.load(f)\n",
    "\n",
    "\n",
    "processed_data = []\n",
    "sampled_batch  = random.sample(raw_data, 500)\n",
    "\n",
    "for sample in sampled_batch:\n",
    "    title = sample[\"title\"]\n",
    "    images = [image_to_base64(image[\"valid_path\"], \"data/test_valid\") for image in sample[\"images\"]]\n",
    "    nutrition_targets = sample[\"nutr_per100g\"]\n",
    "\n",
    "    kcal_bju_keys = ['energy_kcal', 'protein_g', 'fat_g', 'carbs_g']\n",
    "    kcal_bju = {k: nutrition_targets[k] for k in kcal_bju_keys}\n",
    "    processed_data.append({\"title\": title, \"images\": images, \"nutrition_targets\": kcal_bju})"
   ]
  },
  {
   "cell_type": "code",
   "execution_count": 12,
   "id": "8c787460",
   "metadata": {},
   "outputs": [],
   "source": [
    "SYSTEM_PROMPT = \\\n",
    "\"\"\"\n",
    "You are a nutrition expert.  \n",
    "Your task is to analyze an image of a dish and estimate its nutritional value per 100 grams: calories, protein, fat, and carbohydrates.\n",
    "\n",
    "If the name of the dish is provided, use it together with the image to make a more accurate assessment.\n",
    "\"\"\"\n",
    "\n",
    "USER_PROMPT = \"Determine the amount of calories, protein, fat, and carbohydrates per 100 grams for the dish name `{title}`.\""
   ]
  },
  {
   "cell_type": "code",
   "execution_count": 13,
   "id": "845cd6c3",
   "metadata": {},
   "outputs": [],
   "source": [
    "def build_query(dish_data):\n",
    "    system_message = {\n",
    "        \"role\": \"system\",\n",
    "        \"content\": SYSTEM_PROMPT,\n",
    "    }\n",
    "\n",
    "    text_user_content = [\n",
    "        {\n",
    "            \"type\": \"text\",\n",
    "            \"text\": USER_PROMPT.format(title=dish_data[\"title\"]),\n",
    "        }\n",
    "    ]\n",
    "\n",
    "    images_user_content = [\n",
    "        {\n",
    "            \"type\": \"image\",\n",
    "            \"source_type\": \"base64\",\n",
    "            \"data\": image,\n",
    "            \"mime_type\": \"image/jpeg\",\n",
    "        }\n",
    "        for image in dish_data[\"images\"][:1] # choose one image for dish\n",
    "    ]\n",
    "\n",
    "    message = [\n",
    "        system_message,\n",
    "\n",
    "        {\n",
    "            \"role\": \"user\",\n",
    "            \"content\": text_user_content + images_user_content,\n",
    "        }\n",
    "    ]\n",
    "    return message"
   ]
  },
  {
   "cell_type": "code",
   "execution_count": 14,
   "id": "fa8868e5",
   "metadata": {},
   "outputs": [],
   "source": [
    "message = build_query(processed_data[0])"
   ]
  },
  {
   "cell_type": "code",
   "execution_count": 15,
   "id": "2dc1fb71",
   "metadata": {},
   "outputs": [
    {
     "name": "stdout",
     "output_type": "stream",
     "text": [
      "{'energy_kcal': 280, 'protein_g': 2.5, 'fat_g': 12, 'carbs_g': 40}\n"
     ]
    }
   ],
   "source": [
    "response = llm.invoke(message)\n",
    "print(response)"
   ]
  },
  {
   "cell_type": "code",
   "execution_count": 16,
   "id": "cf3736dd",
   "metadata": {},
   "outputs": [
    {
     "data": {
      "application/vnd.jupyter.widget-view+json": {
       "model_id": "5ea6c8b5bb794ed0b893dc7c7578dc41",
       "version_major": 2,
       "version_minor": 0
      },
      "text/plain": [
       "  0%|          | 0/500 [00:00<?, ?it/s]"
      ]
     },
     "metadata": {},
     "output_type": "display_data"
    }
   ],
   "source": [
    "targets = []\n",
    "predictions = []\n",
    "\n",
    "for sample in tqdm(processed_data):\n",
    "    message = build_query(sample)\n",
    "    targets.append(sample[\"nutrition_targets\"])\n",
    "    predictions.append(llm.invoke(message))"
   ]
  },
  {
   "cell_type": "code",
   "execution_count": 17,
   "id": "965114f2",
   "metadata": {},
   "outputs": [],
   "source": [
    "nutrients = list(targets[0].keys())\n",
    "y_true = {nutrient: [t[nutrient] for t in targets] for nutrient in nutrients}\n",
    "y_pred = {nutrient: [p[nutrient] for p in predictions] for nutrient in nutrients}\n",
    "\n",
    "mae_scores = {}\n",
    "\n",
    "for nutrient in nutrients:\n",
    "    mae = mean_absolute_error(y_true[nutrient], y_pred[nutrient])\n",
    "    mae_scores[nutrient] = mae\n",
    "\n",
    "os.makedirs(f\"{ARTIFACTS_DIR}/{EXP_NAME}\", exist_ok=True)\n",
    "with open(f\"{ARTIFACTS_DIR}/{EXP_NAME}/metrics.json\", \"w\", encoding=\"utf-8\") as f:\n",
    "    json.dump(mae_scores, f, indent=4, ensure_ascii=False)"
   ]
  },
  {
   "cell_type": "code",
   "execution_count": 15,
   "id": "f7cde9c2",
   "metadata": {},
   "outputs": [
    {
     "name": "stdout",
     "output_type": "stream",
     "text": [
      "🛑 Остановка vLLM-сервера (SIGINT группе)…\n",
      "✅ Сервер завершился корректно.\n"
     ]
    }
   ],
   "source": [
    "server.stop()"
   ]
  },
  {
   "cell_type": "code",
   "execution_count": null,
   "id": "11c02433",
   "metadata": {},
   "outputs": [],
   "source": []
  }
 ],
 "metadata": {
  "kernelspec": {
   "display_name": ".venv",
   "language": "python",
   "name": "python3"
  },
  "language_info": {
   "codemirror_mode": {
    "name": "ipython",
    "version": 3
   },
   "file_extension": ".py",
   "mimetype": "text/x-python",
   "name": "python",
   "nbconvert_exporter": "python",
   "pygments_lexer": "ipython3",
   "version": "3.10.12"
  }
 },
 "nbformat": 4,
 "nbformat_minor": 5
}
